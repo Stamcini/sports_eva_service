{
 "cells": [
  {
   "cell_type": "code",
   "execution_count": 1,
   "metadata": {
    "collapsed": true
   },
   "outputs": [],
   "source": [
    "import os\n",
    "from server_django.settings import BASE_DIR\n",
    "# from utils.scoring import Scoring\n",
    "from utils.mp_to_bvh_solution import BvhSolution, BvhNode\n",
    "import numpy as np\n",
    "from utils.video2mp_np import video2mp_np\n",
    "import matplotlib.pyplot as plt\n",
    "import matplotlib as mpl\n",
    "import matplotlib.animation as animation\n",
    "import mediapipe as mp\n",
    "%matplotlib qt"
   ]
  },
  {
   "cell_type": "code",
   "execution_count": 3,
   "outputs": [],
   "source": [
    "config_dir = os.path.join(BASE_DIR, 'configs')\n",
    "bvh1 = BvhSolution(\n",
    "    os.path.join(config_dir, 'bvh_mp_config_final.json'),\n",
    "    os.path.join(config_dir, 'mp_hierarchy.json'),\n",
    "    os.path.join(config_dir, 'my5.bvh')\n",
    ")"
   ],
   "metadata": {
    "collapsed": false
   }
  },
  {
   "cell_type": "code",
   "execution_count": 4,
   "outputs": [
    {
     "name": "stderr",
     "output_type": "stream",
     "text": [
      "100%|██████████| 180/180 [00:06<00:00, 29.92it/s]\n"
     ]
    }
   ],
   "source": [
    "\n",
    "tmp1 = video2mp_np('./temp/videos/jumping_jacks1.mp4')\n",
    "mp_data, frame_rate = tmp1['mp_data'], tmp1['frame_rate']"
   ],
   "metadata": {
    "collapsed": false
   }
  },
  {
   "cell_type": "code",
   "execution_count": 13,
   "outputs": [
    {
     "data": {
      "text/plain": "'E:\\\\MyDocs\\\\repos\\\\video2bvh_service_test\\\\server_test\\\\configs\\\\my5.bvh'"
     },
     "execution_count": 13,
     "metadata": {},
     "output_type": "execute_result"
    }
   ],
   "source": [
    "bvh1.bvh_template_file"
   ],
   "metadata": {
    "collapsed": false
   }
  },
  {
   "cell_type": "code",
   "execution_count": 14,
   "outputs": [
    {
     "data": {
      "text/plain": "array([ 0., 20.,  0.])"
     },
     "execution_count": 14,
     "metadata": {},
     "output_type": "execute_result"
    }
   ],
   "source": [
    "bvh1.nodes[1].offset"
   ],
   "metadata": {
    "collapsed": false
   }
  },
  {
   "cell_type": "code",
   "execution_count": 5,
   "outputs": [
    {
     "name": "stdout",
     "output_type": "stream",
     "text": [
      "converted bvh node:Hips, mediapipe node: 33, type:rigid\n",
      "\n",
      "converted bvh node:Chest, mediapipe node: 35, type:rigid\n",
      "\n",
      "converted bvh node:LeftShoulder, mediapipe node: 12, type:vector\n",
      "\n",
      "converted bvh node:LeftElbow, mediapipe node: 14, type:vector\n",
      "\n",
      "converted bvh node:LeftWrist, mediapipe node: 16, type:vector\n",
      "\n",
      "converted bvh node:RightShoulder, mediapipe node: 11, type:vector\n",
      "\n",
      "converted bvh node:RightElbow, mediapipe node: 13, type:vector\n",
      "\n",
      "converted bvh node:RightWrist, mediapipe node: 15, type:vector\n",
      "\n",
      "converted bvh node:Neck, mediapipe node: 34, type:rigid\n",
      "\n",
      "converted bvh node:LeftHip, mediapipe node: 24, type:vector\n",
      "\n",
      "converted bvh node:LeftKnee, mediapipe node: 26, type:vector\n",
      "\n",
      "converted bvh node:LeftAnkle, mediapipe node: 28, type:vector\n",
      "\n",
      "converted bvh node:RightHip, mediapipe node: 23, type:vector\n",
      "\n",
      "converted bvh node:RightKnee, mediapipe node: 25, type:vector\n",
      "\n",
      "converted bvh node:RightAnkle, mediapipe node: 27, type:vector\n",
      "\n"
     ]
    }
   ],
   "source": [
    "bvh1.convert_mediapipe(mp_data)"
   ],
   "metadata": {
    "collapsed": false
   }
  },
  {
   "cell_type": "code",
   "execution_count": 6,
   "outputs": [],
   "source": [
    "bvh1.write_bvh(frame_rate,'./jumping_jacks.bvh')"
   ],
   "metadata": {
    "collapsed": false
   }
  },
  {
   "cell_type": "code",
   "execution_count": 76,
   "outputs": [
    {
     "data": {
      "text/plain": "array([[ -0.,  -0.,  -0.],\n       [ -0., -20.,  -0.],\n       [-20., -40.,  -0.],\n       [-20., -15.,  -0.],\n       [-20.,   7.,  -0.],\n       [-20.,  22.,  -0.],\n       [ 20., -40.,  -0.],\n       [ 20., -15.,  -0.],\n       [ 20.,   7.,  -0.],\n       [ 20.,  22.,  -0.],\n       [ -0., -40.,  -0.],\n       [ -0., -55., -10.],\n       [-10.,  -0.,  -0.],\n       [-10.,  50.,  -0.],\n       [-10.,  90.,  -0.],\n       [-10.,  90., -20.],\n       [ 10.,  -0.,  -0.],\n       [ 10.,  50.,  -0.],\n       [ 10.,  90.,  -0.],\n       [ 10.,  90., -20.]])"
     },
     "execution_count": 76,
     "metadata": {},
     "output_type": "execute_result"
    }
   ],
   "source": [
    "armature_one"
   ],
   "metadata": {
    "collapsed": false
   }
  },
  {
   "cell_type": "code",
   "execution_count": 78,
   "outputs": [
    {
     "data": {
      "text/plain": "<matplotlib.animation.FuncAnimation at 0x151d7437d00>"
     },
     "execution_count": 78,
     "metadata": {},
     "output_type": "execute_result"
    }
   ],
   "source": [
    "utils.visualize_helper.anim_bvh_armature(armature_np/100,30,bvh1)"
   ],
   "metadata": {
    "collapsed": false
   }
  },
  {
   "cell_type": "code",
   "execution_count": 30,
   "outputs": [
    {
     "data": {
      "text/plain": "172"
     },
     "execution_count": 30,
     "metadata": {},
     "output_type": "execute_result"
    }
   ],
   "source": [
    "mp_data.shape[0]"
   ],
   "metadata": {
    "collapsed": false
   }
  },
  {
   "cell_type": "code",
   "execution_count": 36,
   "outputs": [
    {
     "data": {
      "text/plain": "array([[  0.,   0.,   0.],\n       [  0.,  20.,   0.],\n       [ 20.,  20.,   0.],\n       [  0., -25.,   0.],\n       [  0., -22.,   0.],\n       [-20.,  20.,   0.],\n       [  0., -25.,   0.],\n       [  0., -22.,   0.],\n       [  0.,  20.,   0.],\n       [ 10.,   0.,   0.],\n       [  0., -50.,   0.],\n       [  0., -40.,   0.],\n       [-10.,   0.,   0.],\n       [  0., -50.,   0.],\n       [  0., -40.,   0.]])"
     },
     "execution_count": 36,
     "metadata": {},
     "output_type": "execute_result"
    }
   ],
   "source": [
    "armature_np[0,:,:]"
   ],
   "metadata": {
    "collapsed": false
   }
  },
  {
   "cell_type": "code",
   "execution_count": 39,
   "outputs": [],
   "source": [],
   "metadata": {
    "collapsed": false
   }
  },
  {
   "cell_type": "markdown",
   "source": [
    "## update video2mp_np"
   ],
   "metadata": {
    "collapsed": false
   }
  },
  {
   "cell_type": "code",
   "execution_count": 2,
   "outputs": [
    {
     "name": "stderr",
     "output_type": "stream",
     "text": [
      "100%|██████████| 491/491 [00:15<00:00, 32.57it/s]\n"
     ]
    }
   ],
   "source": [
    "import utils.video2mp_np\n",
    "import importlib\n",
    "importlib.reload(utils.video2mp_np)\n",
    "\n",
    "# out=utils.video2mp_np.process_one_video('./temp/videos/high_knees1.mp4')\n",
    "# out=utils.video2mp_np.process_one_video('./temp/videos/null.mp4')\n",
    "\n",
    "out_np=utils.video2mp_np.video2mp_np('./temp/videos/inter3.mp4')"
   ],
   "metadata": {
    "collapsed": false
   }
  },
  {
   "cell_type": "code",
   "execution_count": 8,
   "outputs": [
    {
     "ename": "ModuleNotFoundError",
     "evalue": "No module named 'utils.mp_visualize'",
     "output_type": "error",
     "traceback": [
      "\u001B[1;31m---------------------------------------------------------------------------\u001B[0m",
      "\u001B[1;31mModuleNotFoundError\u001B[0m                       Traceback (most recent call last)",
      "Input \u001B[1;32mIn [8]\u001B[0m, in \u001B[0;36m<cell line: 1>\u001B[1;34m()\u001B[0m\n\u001B[1;32m----> 1\u001B[0m \u001B[38;5;28;01mfrom\u001B[39;00m \u001B[38;5;21;01mutils\u001B[39;00m\u001B[38;5;21;01m.\u001B[39;00m\u001B[38;5;21;01mmp_visualize\u001B[39;00m \u001B[38;5;28;01mimport\u001B[39;00m anim_matchstickman\n",
      "\u001B[1;31mModuleNotFoundError\u001B[0m: No module named 'utils.mp_visualize'"
     ]
    }
   ],
   "source": [
    "from utils.mp_visualize import anim_matchstickman\n",
    "anim_raw_disp = anim_matchstickman(out_np['mp_data'], 30)"
   ],
   "metadata": {
    "collapsed": false
   }
  },
  {
   "cell_type": "code",
   "execution_count": 34,
   "outputs": [
    {
     "data": {
      "text/plain": "x: -0.014777712523937225\ny: -0.6183986067771912\nz: -0.3451542556285858\nvisibility: 0.9999967813491821"
     },
     "execution_count": 34,
     "metadata": {},
     "output_type": "execute_result"
    }
   ],
   "source": [
    "out[1][0][1].pose_world_landmarks.landmark[0]"
   ],
   "metadata": {
    "collapsed": false
   }
  },
  {
   "cell_type": "code",
   "execution_count": 2,
   "outputs": [],
   "source": [
    "start=[utils.video2mp_np.PseudoLandmark(**{\n",
    "    'x':0,\n",
    "    'y':1,\n",
    "    'z':2,\n",
    "    'visibility':0.5,\n",
    "}) for i in range(33)]\n",
    "end=[utils.video2mp_np.PseudoLandmark(**{\n",
    "    'x':1,\n",
    "    'y':2,\n",
    "    'z':3,\n",
    "    'visibility':1,\n",
    "}) for i in range(33)]\n",
    "interped=utils.video2mp_np.PseudoLandmark.interpolate(start,end,33,4)"
   ],
   "metadata": {
    "collapsed": false
   }
  },
  {
   "cell_type": "markdown",
   "source": [
    "## test whole solution"
   ],
   "metadata": {
    "collapsed": false
   }
  },
  {
   "cell_type": "code",
   "execution_count": null,
   "outputs": [],
   "source": [
    "from utils.whole_solution import WholeSolution\n",
    "\n",
    "s1=WholeSolution()\n"
   ],
   "metadata": {
    "collapsed": false
   }
  },
  {
   "cell_type": "code",
   "execution_count": 11,
   "outputs": [
    {
     "data": {
      "text/plain": "11"
     },
     "execution_count": 11,
     "metadata": {},
     "output_type": "execute_result"
    }
   ],
   "source": [
    "def func1(a,b,c,d):\n",
    "    return a+b*c+d\n",
    "\n",
    "func1(*(1,2,3,4))\n"
   ],
   "metadata": {
    "collapsed": false
   }
  },
  {
   "cell_type": "code",
   "execution_count": 17,
   "outputs": [],
   "source": [
    "def gene(count):\n",
    "    for i in range(count):\n",
    "        yield i\n",
    "\n",
    "gene1=gene(3)"
   ],
   "metadata": {
    "collapsed": false
   }
  },
  {
   "cell_type": "code",
   "execution_count": 18,
   "outputs": [
    {
     "data": {
      "text/plain": "[0, 1, 2]"
     },
     "execution_count": 18,
     "metadata": {},
     "output_type": "execute_result"
    }
   ],
   "source": [
    "list(gene1)"
   ],
   "metadata": {
    "collapsed": false
   }
  },
  {
   "cell_type": "code",
   "execution_count": 19,
   "outputs": [],
   "source": [
    "parts={\n",
    "    'holistic':None,\n",
    "    'torso':None,\n",
    "    'upper':None,\n",
    "    'lower':None,\n",
    "}"
   ],
   "metadata": {
    "collapsed": false
   }
  },
  {
   "cell_type": "code",
   "execution_count": 29,
   "outputs": [],
   "source": [
    "upper_index={3,4,5,7,8,9}\n",
    "lower_index=remain-upper_index\n",
    "parts['upper']=list(upper_index)\n",
    "parts['lower']=list(lower_index)"
   ],
   "metadata": {
    "collapsed": false
   }
  },
  {
   "cell_type": "code",
   "execution_count": 28,
   "outputs": [
    {
     "data": {
      "text/plain": "{3, 4, 5, 7, 8, 9, 13, 14, 15, 17, 18, 19}"
     },
     "execution_count": 28,
     "metadata": {},
     "output_type": "execute_result"
    }
   ],
   "source": [
    "remain"
   ],
   "metadata": {
    "collapsed": false
   }
  },
  {
   "cell_type": "code",
   "execution_count": 30,
   "outputs": [
    {
     "data": {
      "text/plain": "{'holistic': [0,\n  1,\n  2,\n  3,\n  4,\n  5,\n  6,\n  7,\n  8,\n  9,\n  10,\n  11,\n  12,\n  13,\n  14,\n  15,\n  16,\n  17,\n  18,\n  19],\n 'torso': [0, 1, 2, 6, 10, 11, 12, 16],\n 'upper': [3, 4, 5, 7, 8, 9],\n 'lower': [13, 14, 15, 17, 18, 19]}"
     },
     "execution_count": 30,
     "metadata": {},
     "output_type": "execute_result"
    }
   ],
   "source": [
    "parts"
   ],
   "metadata": {
    "collapsed": false
   }
  },
  {
   "cell_type": "code",
   "execution_count": 41,
   "outputs": [],
   "source": [
    "import json\n",
    "with open('./configs/scoring_parts.json','w') as f:\n",
    "    f.write(json.dumps(parts,indent=4))"
   ],
   "metadata": {
    "collapsed": false
   }
  },
  {
   "cell_type": "code",
   "execution_count": 40,
   "outputs": [],
   "source": [
    "json.dumps?"
   ],
   "metadata": {
    "collapsed": false
   }
  },
  {
   "cell_type": "code",
   "execution_count": 52,
   "outputs": [],
   "source": [
    "# type(plt.figure())\n",
    "tmp=plt.figure()\n",
    "tmp1=tmp.add_subplot(projection='3d')"
   ],
   "metadata": {
    "collapsed": false
   }
  },
  {
   "cell_type": "code",
   "execution_count": 53,
   "outputs": [
    {
     "data": {
      "text/plain": "matplotlib.axes._subplots.Axes3DSubplot"
     },
     "execution_count": 53,
     "metadata": {},
     "output_type": "execute_result"
    }
   ],
   "source": [
    "type(tmp1)"
   ],
   "metadata": {
    "collapsed": false
   }
  },
  {
   "cell_type": "code",
   "execution_count": 10,
   "outputs": [
    {
     "ename": "NameError",
     "evalue": "name 'armature_np' is not defined",
     "output_type": "error",
     "traceback": [
      "\u001B[1;31m---------------------------------------------------------------------------\u001B[0m",
      "\u001B[1;31mNameError\u001B[0m                                 Traceback (most recent call last)",
      "Input \u001B[1;32mIn [10]\u001B[0m, in \u001B[0;36m<cell line: 8>\u001B[1;34m()\u001B[0m\n\u001B[0;32m      3\u001B[0m importlib\u001B[38;5;241m.\u001B[39mreload(utils\u001B[38;5;241m.\u001B[39mvisualize_helper)\n\u001B[0;32m      5\u001B[0m \u001B[38;5;66;03m# utils.visualize_helper.anim_matchstickman(mp_data,30)\u001B[39;00m\n\u001B[1;32m----> 8\u001B[0m utils\u001B[38;5;241m.\u001B[39mvisualize_helper\u001B[38;5;241m.\u001B[39manim_bvh_armature(\u001B[43marmature_np\u001B[49m\u001B[38;5;241m/\u001B[39m\u001B[38;5;241m100\u001B[39m,\u001B[38;5;241m30\u001B[39m,bvh1)\n",
      "\u001B[1;31mNameError\u001B[0m: name 'armature_np' is not defined"
     ]
    }
   ],
   "source": [
    "import utils.visualize_helper\n",
    "import importlib\n",
    "importlib.reload(utils.visualize_helper)\n",
    "\n",
    "# utils.visualize_helper.anim_matchstickman(mp_data,30)\n",
    "\n",
    "\n",
    "utils.visualize_helper.anim_bvh_armature(armature_np/100,30,bvh1)"
   ],
   "metadata": {
    "collapsed": false
   }
  },
  {
   "cell_type": "code",
   "execution_count": 73,
   "outputs": [
    {
     "data": {
      "text/plain": "array([[-1.47777125e-02, -6.18398607e-01, -3.45154256e-01,\n         9.99996781e-01],\n       [-4.17870842e-03, -6.56241119e-01, -3.30605298e-01,\n         9.99987364e-01],\n       [-3.72469332e-03, -6.56636715e-01, -3.29943478e-01,\n         9.99986172e-01],\n       [-3.70719004e-03, -6.56992853e-01, -3.30005318e-01,\n         9.99986410e-01],\n       [-3.68003808e-02, -6.52626693e-01, -3.30212384e-01,\n         9.99989510e-01],\n       [-3.64499427e-02, -6.53570056e-01, -3.31062943e-01,\n         9.99989271e-01],\n       [-3.65386531e-02, -6.54824317e-01, -3.30054462e-01,\n         9.99989748e-01],\n       [ 4.74725440e-02, -6.44234419e-01, -2.21848235e-01,\n         9.99974847e-01],\n       [-9.97942910e-02, -6.39731288e-01, -2.30146825e-01,\n         9.99977589e-01],\n       [ 7.16000143e-03, -5.93687892e-01, -3.06380361e-01,\n         9.99995708e-01],\n       [-3.55545655e-02, -5.90517104e-01, -3.07595402e-01,\n         9.99996066e-01],\n       [ 1.49611264e-01, -4.53254014e-01, -1.36338979e-01,\n         9.99971628e-01],\n       [-1.89254999e-01, -4.56550151e-01, -1.51182756e-01,\n         9.99977469e-01],\n       [ 1.96468547e-01, -2.16077000e-01, -9.26707312e-02,\n         9.92866039e-01],\n       [-2.35731691e-01, -1.97486848e-01, -9.25134346e-02,\n         9.78460014e-01],\n       [ 2.34798372e-01,  1.69995576e-02, -1.79549024e-01,\n         9.76168096e-01],\n       [-2.52890021e-01,  4.55879010e-02, -1.68426737e-01,\n         9.62943137e-01],\n       [ 2.43489206e-01,  9.84589010e-02, -1.98960349e-01,\n         9.46594715e-01],\n       [-2.52807796e-01,  1.31048724e-01, -1.87715173e-01,\n         9.30038035e-01],\n       [ 2.23880664e-01,  1.02374174e-01, -2.38393158e-01,\n         9.51751471e-01],\n       [-2.37960353e-01,  1.28092080e-01, -2.24709734e-01,\n         9.36477125e-01],\n       [ 2.24179938e-01,  3.43431085e-02, -1.92955405e-01,\n         9.41149235e-01],\n       [-2.38662645e-01,  6.31698295e-02, -1.84131533e-01,\n         9.25409317e-01],\n       [ 1.15487374e-01,  1.44382007e-04,  1.04824058e-03,\n         9.99578178e-01],\n       [-1.15810260e-01, -7.79993949e-04,  1.77743859e-04,\n         9.99683738e-01],\n       [ 1.19786106e-01,  4.00924265e-01,  6.05734240e-04,\n         9.95285094e-01],\n       [-1.00328989e-01,  3.94992083e-01,  7.09067564e-03,\n         9.94291544e-01],\n       [ 1.59592211e-01,  7.61068106e-01,  9.70263034e-02,\n         9.95555699e-01],\n       [-1.12726167e-01,  7.57677436e-01,  1.14235722e-01,\n         9.94279742e-01],\n       [ 1.66660413e-01,  8.06140602e-01,  9.51082930e-02,\n         8.93991351e-01],\n       [-1.15580320e-01,  8.03278685e-01,  1.13942944e-01,\n         8.96493495e-01],\n       [ 1.97299853e-01,  8.62114489e-01, -3.40285525e-02,\n         9.91195083e-01],\n       [-1.49356946e-01,  8.52955878e-01, -1.36327185e-02,\n         9.89715636e-01]])"
     },
     "execution_count": 73,
     "metadata": {},
     "output_type": "execute_result"
    }
   ],
   "source": [
    "mp_data[0]"
   ],
   "metadata": {
    "collapsed": false
   }
  },
  {
   "cell_type": "code",
   "execution_count": 75,
   "outputs": [
    {
     "data": {
      "text/plain": "<matplotlib.animation.FuncAnimation at 0x151d91257f0>"
     },
     "execution_count": 75,
     "metadata": {},
     "output_type": "execute_result"
    }
   ],
   "source": [
    "anim_matchstickman(mp_data[0:2],30)"
   ],
   "metadata": {
    "collapsed": false
   }
  },
  {
   "cell_type": "code",
   "execution_count": 3,
   "outputs": [
    {
     "data": {
      "text/plain": "[26, 28, 30, 32]"
     },
     "execution_count": 3,
     "metadata": {},
     "output_type": "execute_result"
    }
   ],
   "source": [
    "bvh1.get_all_mp_children(24)"
   ],
   "metadata": {
    "collapsed": false
   }
  },
  {
   "cell_type": "code",
   "execution_count": 10,
   "outputs": [
    {
     "data": {
      "text/plain": "[4, 5]"
     },
     "execution_count": 10,
     "metadata": {},
     "output_type": "execute_result"
    }
   ],
   "source": [],
   "metadata": {
    "collapsed": false
   }
  },
  {
   "cell_type": "code",
   "execution_count": 88,
   "outputs": [
    {
     "data": {
      "text/plain": "<module 'utils.mp_to_bvh_solution' from 'E:\\\\MyDocs\\\\repos\\\\video2bvh_service_test\\\\server_test\\\\utils\\\\mp_to_bvh_solution.py'>"
     },
     "execution_count": 88,
     "metadata": {},
     "output_type": "execute_result"
    }
   ],
   "source": [
    "importlib.reload(utils.mp_to_bvh_solution)"
   ],
   "metadata": {
    "collapsed": false
   }
  },
  {
   "cell_type": "code",
   "execution_count": 39,
   "outputs": [],
   "source": [
    "import utils.whole_solution\n",
    "import importlib\n",
    "import utils.visualize_helper\n",
    "importlib.reload(utils.whole_solution)\n",
    "arma1=utils.whole_solution.Scoring.armature_from_bvh(bvh1)\n",
    "utils.whole_solution.Scoring.rotate_armature_by_bvh(arma1,bvh1)"
   ],
   "metadata": {
    "collapsed": false
   }
  },
  {
   "cell_type": "code",
   "execution_count": 30,
   "outputs": [
    {
     "data": {
      "text/plain": "<matplotlib.animation.FuncAnimation at 0x293cfcc71f0>"
     },
     "execution_count": 30,
     "metadata": {},
     "output_type": "execute_result"
    }
   ],
   "source": [
    "utils.visualize_helper.anim_bvh_armature(arma1/100,30,bvh1)"
   ],
   "metadata": {
    "collapsed": false
   }
  },
  {
   "cell_type": "code",
   "execution_count": 38,
   "outputs": [
    {
     "data": {
      "text/plain": "[0, 1, 2, 3, 4, 5, 6, 7, 8, 9, 10, 11, 12, 13, 14, 15, 16, 17, 18, 19]"
     },
     "execution_count": 38,
     "metadata": {},
     "output_type": "execute_result"
    }
   ],
   "source": [
    "scoring1=utils.whole_solution.Scoring(bvh1,'./configs/scoring_parts_bvh.json')\n",
    "scoring1.scoring_parts['holistic']"
   ],
   "metadata": {
    "collapsed": false
   }
  },
  {
   "cell_type": "code",
   "execution_count": 12,
   "outputs": [
    {
     "data": {
      "text/plain": "array([[ 0.99998493,  0.00399642,  0.00376348],\n       [-0.00494788,  0.9531087 ,  0.30258773],\n       [-0.00237774, -0.30260179,  0.95311411]])"
     },
     "execution_count": 12,
     "metadata": {},
     "output_type": "execute_result"
    }
   ],
   "source": [
    "bvh1.nodes[0].dcm[0,:,:]\n",
    "np.linalg.inv"
   ],
   "metadata": {
    "collapsed": false
   }
  },
  {
   "cell_type": "code",
   "execution_count": 44,
   "outputs": [
    {
     "data": {
      "text/plain": "array([[ True,  True,  True,  True],\n       [ True,  True,  True,  True],\n       [ True,  True,  True,  True],\n       [ True,  True,  True,  True],\n       [ True,  True,  True,  True],\n       [ True,  True,  True,  True],\n       [ True,  True,  True,  True],\n       [ True,  True,  True,  True],\n       [ True,  True,  True,  True],\n       [ True,  True,  True,  True],\n       [ True,  True,  True,  True],\n       [ True,  True,  True,  True],\n       [ True,  True,  True,  True],\n       [ True,  True,  True,  True],\n       [ True,  True,  True,  True],\n       [ True,  True,  True,  True],\n       [ True,  True,  True,  True],\n       [ True,  True,  True,  True],\n       [ True,  True,  True,  True],\n       [ True,  True,  True,  True],\n       [ True,  True,  True,  True],\n       [ True,  True,  True,  True],\n       [ True,  True,  True,  True],\n       [ True,  True,  True,  True],\n       [ True,  True,  True,  True],\n       [ True,  True,  True,  True],\n       [ True,  True,  True,  True],\n       [ True,  True,  True,  True],\n       [ True,  True,  True,  True],\n       [ True,  True,  True,  True],\n       [ True,  True,  True,  True],\n       [ True,  True,  True,  True],\n       [ True,  True,  True,  True],\n       [ True,  True,  True,  True],\n       [ True,  True,  True,  True],\n       [ True,  True,  True,  True],\n       [ True,  True,  True,  True],\n       [ True,  True,  True,  True],\n       [ True,  True,  True,  True],\n       [ True,  True,  True,  True],\n       [ True,  True,  True,  True],\n       [ True,  True,  True,  True],\n       [ True,  True,  True,  True],\n       [ True,  True,  True,  True],\n       [ True,  True,  True,  True],\n       [ True,  True,  True,  True],\n       [ True,  True,  True,  True],\n       [ True,  True,  True,  True],\n       [ True,  True,  True,  True],\n       [ True,  True,  True,  True],\n       [ True,  True,  True,  True],\n       [ True,  True,  True,  True],\n       [ True,  True,  True,  True],\n       [ True,  True,  True,  True],\n       [ True,  True,  True,  True],\n       [ True,  True,  True,  True],\n       [ True,  True,  True,  True],\n       [ True,  True,  True,  True],\n       [ True,  True,  True,  True],\n       [ True,  True,  True,  True],\n       [ True,  True,  True,  True],\n       [ True,  True,  True,  True],\n       [ True,  True,  True,  True],\n       [ True,  True,  True,  True],\n       [ True,  True,  True,  True],\n       [ True,  True,  True,  True],\n       [ True,  True,  True,  True],\n       [ True,  True,  True,  True],\n       [ True,  True,  True,  True],\n       [ True,  True,  True,  True],\n       [ True,  True,  True,  True],\n       [ True,  True,  True,  True],\n       [ True,  True,  True,  True],\n       [ True,  True,  True,  True],\n       [ True,  True,  True,  True],\n       [ True,  True,  True,  True],\n       [ True,  True,  True,  True],\n       [ True,  True,  True,  True],\n       [ True,  True,  True,  True],\n       [ True,  True,  True,  True],\n       [ True,  True,  True,  True],\n       [ True,  True,  True,  True],\n       [ True,  True,  True,  True],\n       [ True,  True,  True,  True],\n       [ True,  True,  True,  True],\n       [ True,  True,  True,  True],\n       [ True,  True,  True,  True],\n       [ True,  True,  True,  True],\n       [ True,  True,  True,  True],\n       [ True,  True,  True,  True],\n       [ True,  True,  True,  True],\n       [ True,  True,  True,  True],\n       [ True,  True,  True,  True],\n       [ True,  True,  True,  True],\n       [ True,  True,  True,  True],\n       [ True,  True,  True,  True],\n       [ True,  True,  True,  True],\n       [ True,  True,  True,  True],\n       [ True,  True,  True,  True],\n       [ True,  True,  True,  True],\n       [ True,  True,  True,  True],\n       [ True,  True,  True,  True],\n       [ True,  True,  True,  True],\n       [ True,  True,  True,  True],\n       [ True,  True,  True,  True],\n       [ True,  True,  True,  True],\n       [ True,  True,  True,  True],\n       [ True,  True,  True,  True],\n       [ True,  True,  True,  True],\n       [ True,  True,  True,  True],\n       [ True,  True,  True,  True],\n       [ True,  True,  True,  True],\n       [ True,  True,  True,  True],\n       [ True,  True,  True,  True],\n       [ True,  True,  True,  True],\n       [ True,  True,  True,  True],\n       [ True,  True,  True,  True],\n       [ True,  True,  True,  True],\n       [ True,  True,  True,  True],\n       [ True,  True,  True,  True],\n       [ True,  True,  True,  True],\n       [ True,  True,  True,  True],\n       [ True,  True,  True,  True],\n       [ True,  True,  True,  True],\n       [ True,  True,  True,  True],\n       [ True,  True,  True,  True],\n       [ True,  True,  True,  True],\n       [ True,  True,  True,  True],\n       [ True,  True,  True,  True],\n       [ True,  True,  True,  True],\n       [ True,  True,  True,  True],\n       [ True,  True,  True,  True],\n       [ True,  True,  True,  True],\n       [ True,  True,  True,  True],\n       [ True,  True,  True,  True],\n       [ True,  True,  True,  True],\n       [ True,  True,  True,  True],\n       [ True,  True,  True,  True],\n       [ True,  True,  True,  True],\n       [ True,  True,  True,  True],\n       [ True,  True,  True,  True],\n       [ True,  True,  True,  True],\n       [ True,  True,  True,  True],\n       [ True,  True,  True,  True],\n       [ True,  True,  True,  True],\n       [ True,  True,  True,  True],\n       [ True,  True,  True,  True],\n       [ True,  True,  True,  True],\n       [ True,  True,  True,  True],\n       [ True,  True,  True,  True],\n       [ True,  True,  True,  True],\n       [ True,  True,  True,  True],\n       [ True,  True,  True,  True],\n       [ True,  True,  True,  True],\n       [ True,  True,  True,  True],\n       [ True,  True,  True,  True],\n       [ True,  True,  True,  True],\n       [ True,  True,  True,  True],\n       [ True,  True,  True,  True],\n       [ True,  True,  True,  True],\n       [ True,  True,  True,  True],\n       [ True,  True,  True,  True],\n       [ True,  True,  True,  True],\n       [ True,  True,  True,  True],\n       [ True,  True,  True,  True],\n       [ True,  True,  True,  True],\n       [ True,  True,  True,  True],\n       [ True,  True,  True,  True],\n       [ True,  True,  True,  True],\n       [ True,  True,  True,  True],\n       [ True,  True,  True,  True],\n       [ True,  True,  True,  True]])"
     },
     "execution_count": 44,
     "metadata": {},
     "output_type": "execute_result"
    }
   ],
   "source": [],
   "metadata": {
    "collapsed": false
   }
  },
  {
   "cell_type": "code",
   "execution_count": 6,
   "outputs": [],
   "source": [
    "config_dir = os.path.join(BASE_DIR, 'configs')\n",
    "bvh2 = BvhSolution(\n",
    "    os.path.join(config_dir, 'bvh_mp_config_tpose.json'),\n",
    "    os.path.join(config_dir, 'mp_hierarchy.json'),\n",
    "    os.path.join(config_dir, 'my6_tpose.bvh')\n",
    ")"
   ],
   "metadata": {
    "collapsed": false
   }
  },
  {
   "cell_type": "code",
   "execution_count": 3,
   "outputs": [
    {
     "name": "stderr",
     "output_type": "stream",
     "text": [
      "100%|██████████| 177/177 [00:07<00:00, 24.50it/s]\n"
     ]
    }
   ],
   "source": [
    "tmp2 = video2mp_np('./temp/videos/high_knees1.mp4')\n",
    "mp_data, frame_rate = tmp2['mp_data'], tmp2['frame_rate']"
   ],
   "metadata": {
    "collapsed": false
   }
  },
  {
   "cell_type": "code",
   "execution_count": 7,
   "outputs": [
    {
     "name": "stdout",
     "output_type": "stream",
     "text": [
      "converted bvh node:Hips, mediapipe node: 33, type:rigid\n",
      "\n",
      "converted bvh node:Chest, mediapipe node: 35, type:rigid\n",
      "\n",
      "converted bvh node:LeftShoulder, mediapipe node: 12, type:vector\n",
      "\n",
      "converted bvh node:LeftElbow, mediapipe node: 14, type:vector\n",
      "\n",
      "converted bvh node:LeftWrist, mediapipe node: 16, type:vector\n",
      "\n",
      "converted bvh node:RightShoulder, mediapipe node: 11, type:vector\n",
      "\n",
      "converted bvh node:RightElbow, mediapipe node: 13, type:vector\n",
      "\n",
      "converted bvh node:RightWrist, mediapipe node: 15, type:vector\n",
      "\n",
      "converted bvh node:Neck, mediapipe node: 34, type:rigid\n",
      "\n",
      "converted bvh node:LeftHip, mediapipe node: 24, type:vector\n",
      "\n",
      "converted bvh node:LeftKnee, mediapipe node: 26, type:vector\n",
      "\n",
      "converted bvh node:LeftAnkle, mediapipe node: 28, type:vector\n",
      "\n",
      "converted bvh node:RightHip, mediapipe node: 23, type:vector\n",
      "\n",
      "converted bvh node:RightKnee, mediapipe node: 25, type:vector\n",
      "\n",
      "converted bvh node:RightAnkle, mediapipe node: 27, type:vector\n",
      "\n"
     ]
    }
   ],
   "source": [
    "bvh2.convert_mediapipe(mp_data)"
   ],
   "metadata": {
    "collapsed": false
   }
  },
  {
   "cell_type": "code",
   "execution_count": 12,
   "outputs": [
    {
     "data": {
      "text/plain": "<matplotlib.animation.FuncAnimation at 0x1e81e76b940>"
     },
     "execution_count": 12,
     "metadata": {},
     "output_type": "execute_result"
    }
   ],
   "source": [
    "utils.visualize_helper.anim_matchstickman(bvh2.mp_data,30)"
   ],
   "metadata": {
    "collapsed": false
   }
  },
  {
   "cell_type": "code",
   "execution_count": 13,
   "outputs": [],
   "source": [
    "bvh2.write_bvh(30,'./tpose_out.bvh')"
   ],
   "metadata": {
    "collapsed": false
   }
  }
 ],
 "metadata": {
  "kernelspec": {
   "display_name": "Python 3",
   "language": "python",
   "name": "python3"
  },
  "language_info": {
   "codemirror_mode": {
    "name": "ipython",
    "version": 2
   },
   "file_extension": ".py",
   "mimetype": "text/x-python",
   "name": "python",
   "nbconvert_exporter": "python",
   "pygments_lexer": "ipython2",
   "version": "2.7.6"
  }
 },
 "nbformat": 4,
 "nbformat_minor": 0
}
